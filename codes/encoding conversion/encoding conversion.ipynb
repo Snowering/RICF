{
 "cells": [
  {
   "cell_type": "code",
   "execution_count": 12,
   "metadata": {
    "collapsed": true
   },
   "outputs": [],
   "source": [
    "import pandas as pd"
   ]
  },
  {
   "cell_type": "code",
   "execution_count": 13,
   "metadata": {
    "collapsed": true
   },
   "outputs": [],
   "source": [
    "excl_st_nm=pd.ExcelFile('RICF Data Tables - PubVer.xlsx').sheet_names"
   ]
  },
  {
   "cell_type": "code",
   "execution_count": 14,
   "metadata": {
    "collapsed": false,
    "scrolled": true
   },
   "outputs": [],
   "source": [
    "for st_nm in excl_st_nm:\n",
    "    sheet_data = pd.read_excel('RICF Data Tables - PubVer.xlsx', sheetname=st_nm)\n",
    "    sheet_data.to_csv('utf_8_sig/'+st_nm+'.tsv', sep='\\t', encoding='utf_8_sig', index=False)"
   ]
  },
  {
   "cell_type": "code",
   "execution_count": 15,
   "metadata": {
    "collapsed": true
   },
   "outputs": [],
   "source": [
    "for st_nm in excl_st_nm:\n",
    "    sheet_data = pd.read_excel('RICF Data Tables - PubVer.xlsx', sheetname=st_nm)\n",
    "    sheet_data.to_csv('utf_8/'+st_nm+'.tsv', sep='\\t', encoding='utf_8', index=False)"
   ]
  }
 ],
 "metadata": {
  "kernelspec": {
   "display_name": "Python 2",
   "language": "python",
   "name": "python2"
  },
  "language_info": {
   "codemirror_mode": {
    "name": "ipython",
    "version": 2
   },
   "file_extension": ".py",
   "mimetype": "text/x-python",
   "name": "python",
   "nbconvert_exporter": "python",
   "pygments_lexer": "ipython2",
   "version": "2.7.11"
  }
 },
 "nbformat": 4,
 "nbformat_minor": 0
}
