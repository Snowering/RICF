{
 "cells": [
  {
   "cell_type": "code",
   "execution_count": 44,
   "metadata": {
    "collapsed": false
   },
   "outputs": [],
   "source": [
    "from pandas import read_csv\n",
    "from pandas import DataFrame\n",
    "from pandas import ExcelWriter\n",
    "from os import listdir"
   ]
  },
  {
   "cell_type": "code",
   "execution_count": 10,
   "metadata": {
    "collapsed": false
   },
   "outputs": [],
   "source": [
    "root_dirs = listdir('../../')"
   ]
  },
  {
   "cell_type": "code",
   "execution_count": 13,
   "metadata": {
    "collapsed": true
   },
   "outputs": [],
   "source": [
    "data_dirs = [s for s in root_dirs if s.isdigit()]"
   ]
  },
  {
   "cell_type": "code",
   "execution_count": 42,
   "metadata": {
    "collapsed": false,
    "scrolled": false
   },
   "outputs": [
    {
     "name": "stdout",
     "output_type": "stream",
     "text": [
      "Activities Overview.tsv\n",
      "Basic.tsv\n",
      "Board.tsv\n",
      "Cash Flow.tsv\n",
      "Financial Activities.tsv\n",
      "Financial Position.tsv\n",
      "Supervisor.tsv\n"
     ]
    }
   ],
   "source": [
    "for repos in data_dirs:\n",
    "    data_tables = listdir('../../'+repos)\n",
    "    excl_writer = ExcelWriter('../../'+repos+'.xlsx')\n",
    "    for table in data_tables:\n",
    "        print table\n",
    "        read_csv('../../'+repos+'/'+table, sep='\\t', encoding='utf8').to_excel(excl_writer, sheet_name=table, encoding='utf8')\n",
    "    excl_writer.save()"
   ]
  },
  {
   "cell_type": "code",
   "execution_count": null,
   "metadata": {
    "collapsed": true
   },
   "outputs": [],
   "source": []
  }
 ],
 "metadata": {
  "kernelspec": {
   "display_name": "Python 2",
   "language": "python",
   "name": "python2"
  },
  "language_info": {
   "codemirror_mode": {
    "name": "ipython",
    "version": 2
   },
   "file_extension": ".py",
   "mimetype": "text/x-python",
   "name": "python",
   "nbconvert_exporter": "python",
   "pygments_lexer": "ipython2",
   "version": "2.7.11"
  }
 },
 "nbformat": 4,
 "nbformat_minor": 0
}
