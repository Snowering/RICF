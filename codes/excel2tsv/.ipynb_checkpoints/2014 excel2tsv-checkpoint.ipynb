{
 "cells": [
  {
   "cell_type": "code",
   "execution_count": 22,
   "metadata": {
    "collapsed": true
   },
   "outputs": [],
   "source": [
    "import pandas as pd"
   ]
  },
  {
   "cell_type": "code",
   "execution_count": 23,
   "metadata": {
    "collapsed": false
   },
   "outputs": [],
   "source": [
    "''' Large Donation '''\n",
    "# Read.\n",
    "df_ld = pd.read_excel('../../raw data/2014/match letter code/Large Donation.xlsx')\n",
    "# Remove whitespace.\n",
    "df_ld['捐赠主体名称']=[''.join(s.split()) for s in df_ld['捐赠主体名称']]\n",
    "df_ld['用途']=[''.join(s.split()) for s in df_ld['用途']]\n",
    "# Save.\n",
    "df_ld.to_csv('../../2014/large_donation.tsv', sep='\\t', encoding='utf8', index=False)"
   ]
  },
  {
   "cell_type": "code",
   "execution_count": 24,
   "metadata": {
    "collapsed": true
   },
   "outputs": [],
   "source": [
    "''' Related Party '''\n",
    "# Read.\n",
    "df_rp = pd.read_excel('../../raw data/2014/match letter code/Related Party.xlsx')\n",
    "# Remove whitespace.\n",
    "df_rp['关联方名称']=[''.join(s.split()) for s in df_rp['关联方名称']]\n",
    "# Save.\n",
    "df_rp.to_csv('../../2014/related_party.tsv', sep='\\t', encoding='utf8', index=False)"
   ]
  }
 ],
 "metadata": {
  "kernelspec": {
   "display_name": "Python [conda env:a_py3]",
   "language": "python",
   "name": "conda-env-a_py3-py"
  },
  "language_info": {
   "codemirror_mode": {
    "name": "ipython",
    "version": 3
   },
   "file_extension": ".py",
   "mimetype": "text/x-python",
   "name": "python",
   "nbconvert_exporter": "python",
   "pygments_lexer": "ipython3",
   "version": "3.6.0"
  }
 },
 "nbformat": 4,
 "nbformat_minor": 2
}
